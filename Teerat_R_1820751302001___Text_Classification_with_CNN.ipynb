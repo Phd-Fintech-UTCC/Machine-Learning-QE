{
  "nbformat": 4,
  "nbformat_minor": 0,
  "metadata": {
    "colab": {
      "name": "Teerat R 1820751302001 _ Text_Classification_with_CNN.ipynb",
      "provenance": [],
      "collapsed_sections": [
        "KGmBlTFGENaE",
        "ziht6tjTCPnY",
        "PYCUddBwZuTL",
        "t4dFLgg-BMGy",
        "SUY4IdbPxCqe",
        "Xw-3YbDpygAm"
      ],
      "toc_visible": true
    },
    "kernelspec": {
      "name": "python3",
      "display_name": "Python 3"
    },
    "accelerator": "TPU"
  },
  "cells": [
    {
      "cell_type": "markdown",
      "metadata": {
        "id": "KGmBlTFGENaE",
        "colab_type": "text"
      },
      "source": [
        "# **Problem**"
      ]
    },
    {
      "cell_type": "markdown",
      "metadata": {
        "id": "mJOpJWR-EU4N",
        "colab_type": "text"
      },
      "source": [
        "จากการศึกษาเรื่องการใช้ TensorFlow เพื่อการแบ่งกลุ่มข้อความ จงค้นคว้าเพิ่มเติม เพื่อสร้าง Deep Learning Neural Networks ที่สามารถแบ่งข้อความออกเป็น 5 กลุ่ม ได้แก่ Social, Technological, Economic, Environmental และ Political โดยข้อมูลดาวน์โหลดได้ที่\n",
        "https://drive.google.com/open?id=1-AE9qY9mnFTjDAWlIcD2nfJDMdP5p7CK\n",
        "\n",
        "ข้อมูลเพิ่มเติม\n",
        "-\tloss function ของ model ไม่สามารถใช้ binary_classentropy เนื่องจากการแบ่งคลาสไม่ใช่ binary โปรดศึกษาเพิ่มเติมสำหรับ loss ที่เหมาะสม จาก  https://machinelearningmastery.com/how-to-choose-loss-functions-when-training-deep-learning-neural-networks/\n",
        "-\tจำนวน Output Nodes ควรมีค่าเท่ากับจำนวนกลุ่ม\n",
        "\n",
        "ข้อกำหนดที่ต้องการ\n",
        "-\tทำการแบ่งข้อมูลที่ดาวน์โหลดออกเป็น 2 ส่วนคือ Training Dataset กับ Testing Dataset ในสัดส่วน 75% และ 25% ตามลำดับ\n",
        "-\tปรับ Hyperparameters เพื่อให้:\n",
        "  \n",
        "  --\tAccuracy ที่ได้จาก Training และ Testing ไม่ต่ำกว่า 80%\n",
        "\n",
        "  --  Loss ของ Training และ Testing มีแนวโน้มไม่สูงขึ้น\n",
        "  \n",
        "  --\tทำการทดลองซ้ำได้ และได้ผลลัพธ์เดิม\n",
        "\n",
        "วิธีการส่ง\n",
        "-\tพัฒนาโปรแกรมด้วย Python Google Colab \n",
        "-\tเขียนอภิปรายวิธีการ ผลลัพธ์ และสรุปลง Notebook ประกอบกับโปรแกรมที่พัฒนา\n",
        "-\tส่ง URL ของ Notebook มาที่ https://classroom.github.com/classrooms/46705327-cpe-utcc-phd-qe-ml\n",
        "\n"
      ]
    },
    {
      "cell_type": "markdown",
      "metadata": {
        "id": "ziht6tjTCPnY",
        "colab_type": "text"
      },
      "source": [
        "# **Data Preprocess**"
      ]
    },
    {
      "cell_type": "code",
      "metadata": {
        "id": "isxUeOCD0Jgm",
        "colab_type": "code",
        "outputId": "7f77ef3c-d464-46a3-e5ff-cdd0966b1189",
        "colab": {
          "base_uri": "https://localhost:8080/",
          "height": 34
        }
      },
      "source": [
        "pwd"
      ],
      "execution_count": 1,
      "outputs": [
        {
          "output_type": "execute_result",
          "data": {
            "text/plain": [
              "'/content'"
            ]
          },
          "metadata": {
            "tags": []
          },
          "execution_count": 1
        }
      ]
    },
    {
      "cell_type": "code",
      "metadata": {
        "id": "6ZdhQjq4WZrx",
        "colab_type": "code",
        "outputId": "3dd1bc1e-4bd0-4349-a7ba-c6e6bddd0de6",
        "colab": {
          "base_uri": "https://localhost:8080/",
          "height": 85
        }
      },
      "source": [
        "# Load data from UTCC Example source\n",
        "!gdown --id 1-AE9qY9mnFTjDAWlIcD2nfJDMdP5p7CK"
      ],
      "execution_count": 2,
      "outputs": [
        {
          "output_type": "stream",
          "text": [
            "Downloading...\n",
            "From: https://drive.google.com/uc?id=1-AE9qY9mnFTjDAWlIcD2nfJDMdP5p7CK\n",
            "To: /content/steep_01_clean.csv\n",
            "\r  0% 0.00/108k [00:00<?, ?B/s]\r100% 108k/108k [00:00<00:00, 96.6MB/s]\n"
          ],
          "name": "stdout"
        }
      ]
    },
    {
      "cell_type": "code",
      "metadata": {
        "id": "uAxVu0alhJFB",
        "colab_type": "code",
        "outputId": "3989b834-2847-4868-9c7b-4ec27c3a6cce",
        "colab": {
          "base_uri": "https://localhost:8080/",
          "height": 34
        }
      },
      "source": [
        "ls"
      ],
      "execution_count": 3,
      "outputs": [
        {
          "output_type": "stream",
          "text": [
            "\u001b[0m\u001b[01;34msample_data\u001b[0m/  steep_01_clean.csv\n"
          ],
          "name": "stdout"
        }
      ]
    },
    {
      "cell_type": "code",
      "metadata": {
        "id": "Fb4H18AEhhHM",
        "colab_type": "code",
        "colab": {}
      },
      "source": [
        "import pandas as pd\n",
        "import numpy as np\n",
        "import matplotlib.pyplot as plt"
      ],
      "execution_count": 0,
      "outputs": []
    },
    {
      "cell_type": "code",
      "metadata": {
        "id": "aCwx2TwehhSj",
        "colab_type": "code",
        "colab": {}
      },
      "source": [
        "# df = pd.read_csv('steep_01_clean.csv')\n",
        "# This code is fail"
      ],
      "execution_count": 0,
      "outputs": []
    },
    {
      "cell_type": "code",
      "metadata": {
        "id": "-12Ds0DQyJ03",
        "colab_type": "code",
        "outputId": "5fb3cd7b-9f9e-4075-f725-72d24569a3ce",
        "colab": {
          "base_uri": "https://localhost:8080/",
          "height": 419
        }
      },
      "source": [
        "# How to load data and fix problem follow : https://stackoverflow.com/questions/55129640/read-csv-into-a-dataframe-with-varying-row-lengths-using-pandas/55129746#55129746\n",
        "# and : https://stackoverflow.com/questions/18039057/python-pandas-error-tokenizing-data/352127\n",
        "\n",
        "col_names = [\"text\", \"label\"]\n",
        "all_df = pd.read_csv('steep_01_clean.csv', names=col_names, sep='|')\n",
        "all_df"
      ],
      "execution_count": 6,
      "outputs": [
        {
          "output_type": "execute_result",
          "data": {
            "text/html": [
              "<div>\n",
              "<style scoped>\n",
              "    .dataframe tbody tr th:only-of-type {\n",
              "        vertical-align: middle;\n",
              "    }\n",
              "\n",
              "    .dataframe tbody tr th {\n",
              "        vertical-align: top;\n",
              "    }\n",
              "\n",
              "    .dataframe thead th {\n",
              "        text-align: right;\n",
              "    }\n",
              "</style>\n",
              "<table border=\"1\" class=\"dataframe\">\n",
              "  <thead>\n",
              "    <tr style=\"text-align: right;\">\n",
              "      <th></th>\n",
              "      <th>text</th>\n",
              "      <th>label</th>\n",
              "    </tr>\n",
              "  </thead>\n",
              "  <tbody>\n",
              "    <tr>\n",
              "      <th>0</th>\n",
              "      <td>Platinum will trade at $1,055.30 an ounce in a...</td>\n",
              "      <td>0</td>\n",
              "    </tr>\n",
              "    <tr>\n",
              "      <th>1</th>\n",
              "      <td>Metadata will be critical to adding intelligen...</td>\n",
              "      <td>4</td>\n",
              "    </tr>\n",
              "    <tr>\n",
              "      <th>2</th>\n",
              "      <td>Agricultural robot Agbot II could save Austral...</td>\n",
              "      <td>3</td>\n",
              "    </tr>\n",
              "    <tr>\n",
              "      <th>3</th>\n",
              "      <td>Saudi 0 growth will slow to about 1 percent ne...</td>\n",
              "      <td>0</td>\n",
              "    </tr>\n",
              "    <tr>\n",
              "      <th>4</th>\n",
              "      <td>Theresa May has been warned to expect a full-b...</td>\n",
              "      <td>2</td>\n",
              "    </tr>\n",
              "    <tr>\n",
              "      <th>...</th>\n",
              "      <td>...</td>\n",
              "      <td>...</td>\n",
              "    </tr>\n",
              "    <tr>\n",
              "      <th>764</th>\n",
              "      <td>Italy's banking system is likely to remain in ...</td>\n",
              "      <td>2</td>\n",
              "    </tr>\n",
              "    <tr>\n",
              "      <th>765</th>\n",
              "      <td>Acts of terrorism that ultimately result in re...</td>\n",
              "      <td>2</td>\n",
              "    </tr>\n",
              "    <tr>\n",
              "      <th>766</th>\n",
              "      <td>Secretary-General noted that there was a high ...</td>\n",
              "      <td>2</td>\n",
              "    </tr>\n",
              "    <tr>\n",
              "      <th>767</th>\n",
              "      <td>A protracted conflict in Burundi could have si...</td>\n",
              "      <td>2</td>\n",
              "    </tr>\n",
              "    <tr>\n",
              "      <th>768</th>\n",
              "      <td>Civilians in Burundi face a serious risk of po...</td>\n",
              "      <td>2</td>\n",
              "    </tr>\n",
              "  </tbody>\n",
              "</table>\n",
              "<p>769 rows × 2 columns</p>\n",
              "</div>"
            ],
            "text/plain": [
              "                                                  text  label\n",
              "0    Platinum will trade at $1,055.30 an ounce in a...      0\n",
              "1    Metadata will be critical to adding intelligen...      4\n",
              "2    Agricultural robot Agbot II could save Austral...      3\n",
              "3    Saudi 0 growth will slow to about 1 percent ne...      0\n",
              "4    Theresa May has been warned to expect a full-b...      2\n",
              "..                                                 ...    ...\n",
              "764  Italy's banking system is likely to remain in ...      2\n",
              "765  Acts of terrorism that ultimately result in re...      2\n",
              "766  Secretary-General noted that there was a high ...      2\n",
              "767  A protracted conflict in Burundi could have si...      2\n",
              "768  Civilians in Burundi face a serious risk of po...      2\n",
              "\n",
              "[769 rows x 2 columns]"
            ]
          },
          "metadata": {
            "tags": []
          },
          "execution_count": 6
        }
      ]
    },
    {
      "cell_type": "code",
      "metadata": {
        "id": "VjmI1uZXz7Ea",
        "colab_type": "code",
        "colab": {}
      },
      "source": [
        "# Export File : all_df มาเปิดด้วยโปรแกรม Excel เพื่อตรวจสอบความถูกต้องอีกครั้งหนึ่ง\n",
        "all_df.to_csv('all_data.csv')"
      ],
      "execution_count": 0,
      "outputs": []
    },
    {
      "cell_type": "code",
      "metadata": {
        "id": "DrQkyrNwz7I8",
        "colab_type": "code",
        "outputId": "3b0ba5bf-7e39-408c-f82b-a8a9d99e2454",
        "colab": {
          "base_uri": "https://localhost:8080/",
          "height": 34
        }
      },
      "source": [
        "ls"
      ],
      "execution_count": 8,
      "outputs": [
        {
          "output_type": "stream",
          "text": [
            "all_data.csv  \u001b[0m\u001b[01;34msample_data\u001b[0m/  steep_01_clean.csv\n"
          ],
          "name": "stdout"
        }
      ]
    },
    {
      "cell_type": "markdown",
      "metadata": {
        "id": "Ejx1a9H93CfR",
        "colab_type": "text"
      },
      "source": [
        "ไฟล์ all_data ตรวจสอบแล้ว มีการเพิ่มชื่อ Column และแยก text และ label ออกจากกันด้วย (|) แล้ว\n",
        "\n",
        "![alt text](https://www.img.in.th/images/61680e5ea24381c1352f17e05cd124de.png)"
      ]
    },
    {
      "cell_type": "code",
      "metadata": {
        "id": "nqmS9JPmz7MP",
        "colab_type": "code",
        "outputId": "c3a99ee6-5c24-43c5-9051-e196b13ac91f",
        "colab": {
          "base_uri": "https://localhost:8080/",
          "height": 136
        }
      },
      "source": [
        "all_df.info()"
      ],
      "execution_count": 9,
      "outputs": [
        {
          "output_type": "stream",
          "text": [
            "<class 'pandas.core.frame.DataFrame'>\n",
            "RangeIndex: 769 entries, 0 to 768\n",
            "Data columns (total 2 columns):\n",
            "text     769 non-null object\n",
            "label    769 non-null int64\n",
            "dtypes: int64(1), object(1)\n",
            "memory usage: 12.1+ KB\n"
          ],
          "name": "stdout"
        }
      ]
    },
    {
      "cell_type": "code",
      "metadata": {
        "id": "KF4JNTGVz7O9",
        "colab_type": "code",
        "outputId": "cf1fcfe9-643e-491f-e40f-3922cd368402",
        "colab": {
          "base_uri": "https://localhost:8080/",
          "height": 266
        }
      },
      "source": [
        "all_df.groupby(\"label\").describe()\n",
        "# โดยที่ \n",
        "# 0 = Social\n",
        "# 1 = Technological\n",
        "# 2 = Economic\n",
        "# 3 = Environmental\n",
        "# 4 = Political "
      ],
      "execution_count": 10,
      "outputs": [
        {
          "output_type": "execute_result",
          "data": {
            "text/html": [
              "<div>\n",
              "<style scoped>\n",
              "    .dataframe tbody tr th:only-of-type {\n",
              "        vertical-align: middle;\n",
              "    }\n",
              "\n",
              "    .dataframe tbody tr th {\n",
              "        vertical-align: top;\n",
              "    }\n",
              "\n",
              "    .dataframe thead tr th {\n",
              "        text-align: left;\n",
              "    }\n",
              "\n",
              "    .dataframe thead tr:last-of-type th {\n",
              "        text-align: right;\n",
              "    }\n",
              "</style>\n",
              "<table border=\"1\" class=\"dataframe\">\n",
              "  <thead>\n",
              "    <tr>\n",
              "      <th></th>\n",
              "      <th colspan=\"4\" halign=\"left\">text</th>\n",
              "    </tr>\n",
              "    <tr>\n",
              "      <th></th>\n",
              "      <th>count</th>\n",
              "      <th>unique</th>\n",
              "      <th>top</th>\n",
              "      <th>freq</th>\n",
              "    </tr>\n",
              "    <tr>\n",
              "      <th>label</th>\n",
              "      <th></th>\n",
              "      <th></th>\n",
              "      <th></th>\n",
              "      <th></th>\n",
              "    </tr>\n",
              "  </thead>\n",
              "  <tbody>\n",
              "    <tr>\n",
              "      <th>0</th>\n",
              "      <td>208</td>\n",
              "      <td>208</td>\n",
              "      <td>The Slovakian economy grew 3.6% in 2015, drive...</td>\n",
              "      <td>1</td>\n",
              "    </tr>\n",
              "    <tr>\n",
              "      <th>1</th>\n",
              "      <td>46</td>\n",
              "      <td>46</td>\n",
              "      <td>19 12 Future Operating Environment 2035 will p...</td>\n",
              "      <td>1</td>\n",
              "    </tr>\n",
              "    <tr>\n",
              "      <th>2</th>\n",
              "      <td>399</td>\n",
              "      <td>399</td>\n",
              "      <td>The relationship between Washington and Beijin...</td>\n",
              "      <td>1</td>\n",
              "    </tr>\n",
              "    <tr>\n",
              "      <th>3</th>\n",
              "      <td>66</td>\n",
              "      <td>66</td>\n",
              "      <td>Defense spending on research and development w...</td>\n",
              "      <td>1</td>\n",
              "    </tr>\n",
              "    <tr>\n",
              "      <th>4</th>\n",
              "      <td>50</td>\n",
              "      <td>50</td>\n",
              "      <td>By 2035, extremists will almost certainly be m...</td>\n",
              "      <td>1</td>\n",
              "    </tr>\n",
              "  </tbody>\n",
              "</table>\n",
              "</div>"
            ],
            "text/plain": [
              "       text                                                               \n",
              "      count unique                                                top freq\n",
              "label                                                                     \n",
              "0       208    208  The Slovakian economy grew 3.6% in 2015, drive...    1\n",
              "1        46     46  19 12 Future Operating Environment 2035 will p...    1\n",
              "2       399    399  The relationship between Washington and Beijin...    1\n",
              "3        66     66  Defense spending on research and development w...    1\n",
              "4        50     50  By 2035, extremists will almost certainly be m...    1"
            ]
          },
          "metadata": {
            "tags": []
          },
          "execution_count": 10
        }
      ]
    },
    {
      "cell_type": "code",
      "metadata": {
        "id": "neVUb9lHuSRC",
        "colab_type": "code",
        "outputId": "f2f7f9e6-63ac-48c4-f6ac-251ba8963108",
        "colab": {
          "base_uri": "https://localhost:8080/",
          "height": 279
        }
      },
      "source": [
        "all_df.label.value_counts().plot.bar()\n",
        "# ปริมาณของข้อความในแต่ละ label มีความไม่สมดุลกัน ในที่นี้ขอพิจารณา ไม่แก้ปัญหา Imbalance data"
      ],
      "execution_count": 11,
      "outputs": [
        {
          "output_type": "execute_result",
          "data": {
            "text/plain": [
              "<matplotlib.axes._subplots.AxesSubplot at 0x7fe3706a1668>"
            ]
          },
          "metadata": {
            "tags": []
          },
          "execution_count": 11
        },
        {
          "output_type": "display_data",
          "data": {
            "image/png": "[encoded data removed]",
            "text/plain": [
              "<Figure size 432x288 with 1 Axes>"
            ]
          },
          "metadata": {
            "tags": []
          }
        }
      ]
    },
    {
      "cell_type": "markdown",
      "metadata": {
        "id": "jIVRx8XY7Zvs",
        "colab_type": "text"
      },
      "source": [
        "***Train Test Split Data*** จากโจทย์ Testing Dataset ในสัดส่วน 75% และ 25%"
      ]
    },
    {
      "cell_type": "code",
      "metadata": {
        "id": "sPTE1LTkuST_",
        "colab_type": "code",
        "colab": {}
      },
      "source": [
        "from sklearn.model_selection import train_test_split\n",
        "train_df, test_df = train_test_split(all_df, test_size=0.25, random_state=2020)\n",
        "\n",
        "# Fix random_state=2020 เพื่อให้ได้ผลลัพธ์เท่าเดิมทุกครั้ง"
      ],
      "execution_count": 0,
      "outputs": []
    },
    {
      "cell_type": "code",
      "metadata": {
        "id": "kzW07eyM9rCM",
        "colab_type": "code",
        "outputId": "058f4bc6-68ec-41ce-ba0d-d27ee1cd066f",
        "colab": {
          "base_uri": "https://localhost:8080/",
          "height": 204
        }
      },
      "source": [
        "train_df.head()"
      ],
      "execution_count": 13,
      "outputs": [
        {
          "output_type": "execute_result",
          "data": {
            "text/html": [
              "<div>\n",
              "<style scoped>\n",
              "    .dataframe tbody tr th:only-of-type {\n",
              "        vertical-align: middle;\n",
              "    }\n",
              "\n",
              "    .dataframe tbody tr th {\n",
              "        vertical-align: top;\n",
              "    }\n",
              "\n",
              "    .dataframe thead th {\n",
              "        text-align: right;\n",
              "    }\n",
              "</style>\n",
              "<table border=\"1\" class=\"dataframe\">\n",
              "  <thead>\n",
              "    <tr style=\"text-align: right;\">\n",
              "      <th></th>\n",
              "      <th>text</th>\n",
              "      <th>label</th>\n",
              "    </tr>\n",
              "  </thead>\n",
              "  <tbody>\n",
              "    <tr>\n",
              "      <th>366</th>\n",
              "      <td>Advancements in storage battery technology cou...</td>\n",
              "      <td>4</td>\n",
              "    </tr>\n",
              "    <tr>\n",
              "      <th>667</th>\n",
              "      <td>The introduction of unmanned and autonomous sy...</td>\n",
              "      <td>2</td>\n",
              "    </tr>\n",
              "    <tr>\n",
              "      <th>69</th>\n",
              "      <td>Harnessing advances in AI to their fullest pot...</td>\n",
              "      <td>2</td>\n",
              "    </tr>\n",
              "    <tr>\n",
              "      <th>122</th>\n",
              "      <td>U.S. lawmakers approved changes to Internation...</td>\n",
              "      <td>2</td>\n",
              "    </tr>\n",
              "    <tr>\n",
              "      <th>289</th>\n",
              "      <td>More than 50% of global EV sales are expected ...</td>\n",
              "      <td>0</td>\n",
              "    </tr>\n",
              "  </tbody>\n",
              "</table>\n",
              "</div>"
            ],
            "text/plain": [
              "                                                  text  label\n",
              "366  Advancements in storage battery technology cou...      4\n",
              "667  The introduction of unmanned and autonomous sy...      2\n",
              "69   Harnessing advances in AI to their fullest pot...      2\n",
              "122  U.S. lawmakers approved changes to Internation...      2\n",
              "289  More than 50% of global EV sales are expected ...      0"
            ]
          },
          "metadata": {
            "tags": []
          },
          "execution_count": 13
        }
      ]
    },
    {
      "cell_type": "code",
      "metadata": {
        "id": "E36yFBBxuSW6",
        "colab_type": "code",
        "outputId": "b9676367-2e87-4298-8fed-ed8648d94387",
        "colab": {
          "base_uri": "https://localhost:8080/",
          "height": 279
        }
      },
      "source": [
        "train_df.label.value_counts().plot.bar()"
      ],
      "execution_count": 14,
      "outputs": [
        {
          "output_type": "execute_result",
          "data": {
            "text/plain": [
              "<matplotlib.axes._subplots.AxesSubplot at 0x7fe364d3d6a0>"
            ]
          },
          "metadata": {
            "tags": []
          },
          "execution_count": 14
        },
        {
          "output_type": "display_data",
          "data": {
            "image/png": "[encoded data removed]",
            "text/plain": [
              "<Figure size 432x288 with 1 Axes>"
            ]
          },
          "metadata": {
            "tags": []
          }
        }
      ]
    },
    {
      "cell_type": "code",
      "metadata": {
        "id": "3pI28nO_9xgE",
        "colab_type": "code",
        "outputId": "f5c30c7a-817d-4b28-b397-e36525ddaa61",
        "colab": {
          "base_uri": "https://localhost:8080/",
          "height": 204
        }
      },
      "source": [
        "test_df.head()"
      ],
      "execution_count": 15,
      "outputs": [
        {
          "output_type": "execute_result",
          "data": {
            "text/html": [
              "<div>\n",
              "<style scoped>\n",
              "    .dataframe tbody tr th:only-of-type {\n",
              "        vertical-align: middle;\n",
              "    }\n",
              "\n",
              "    .dataframe tbody tr th {\n",
              "        vertical-align: top;\n",
              "    }\n",
              "\n",
              "    .dataframe thead th {\n",
              "        text-align: right;\n",
              "    }\n",
              "</style>\n",
              "<table border=\"1\" class=\"dataframe\">\n",
              "  <thead>\n",
              "    <tr style=\"text-align: right;\">\n",
              "      <th></th>\n",
              "      <th>text</th>\n",
              "      <th>label</th>\n",
              "    </tr>\n",
              "  </thead>\n",
              "  <tbody>\n",
              "    <tr>\n",
              "      <th>371</th>\n",
              "      <td>Growth will be concentrated in relatively few ...</td>\n",
              "      <td>0</td>\n",
              "    </tr>\n",
              "    <tr>\n",
              "      <th>358</th>\n",
              "      <td>A statistical analysis sponsored by the Peace ...</td>\n",
              "      <td>2</td>\n",
              "    </tr>\n",
              "    <tr>\n",
              "      <th>749</th>\n",
              "      <td>UK unemployment is forecast to rise from 5% to...</td>\n",
              "      <td>0</td>\n",
              "    </tr>\n",
              "    <tr>\n",
              "      <th>131</th>\n",
              "      <td>Russia and its allies could push to shift cont...</td>\n",
              "      <td>2</td>\n",
              "    </tr>\n",
              "    <tr>\n",
              "      <th>606</th>\n",
              "      <td>Software flaw puts mobile phones and networks ...</td>\n",
              "      <td>3</td>\n",
              "    </tr>\n",
              "  </tbody>\n",
              "</table>\n",
              "</div>"
            ],
            "text/plain": [
              "                                                  text  label\n",
              "371  Growth will be concentrated in relatively few ...      0\n",
              "358  A statistical analysis sponsored by the Peace ...      2\n",
              "749  UK unemployment is forecast to rise from 5% to...      0\n",
              "131  Russia and its allies could push to shift cont...      2\n",
              "606  Software flaw puts mobile phones and networks ...      3"
            ]
          },
          "metadata": {
            "tags": []
          },
          "execution_count": 15
        }
      ]
    },
    {
      "cell_type": "code",
      "metadata": {
        "id": "TzjlCJSsuSZ-",
        "colab_type": "code",
        "outputId": "f6ea87cf-b22a-4b3e-879b-af59889e5f06",
        "colab": {
          "base_uri": "https://localhost:8080/",
          "height": 279
        }
      },
      "source": [
        "test_df.label.value_counts().plot.bar()"
      ],
      "execution_count": 16,
      "outputs": [
        {
          "output_type": "execute_result",
          "data": {
            "text/plain": [
              "<matplotlib.axes._subplots.AxesSubplot at 0x7fe364d29e48>"
            ]
          },
          "metadata": {
            "tags": []
          },
          "execution_count": 16
        },
        {
          "output_type": "display_data",
          "data": {
            "image/png": "[encoded data removed]",
            "text/plain": [
              "<Figure size 432x288 with 1 Axes>"
            ]
          },
          "metadata": {
            "tags": []
          }
        }
      ]
    },
    {
      "cell_type": "markdown",
      "metadata": {
        "id": "PYCUddBwZuTL",
        "colab_type": "text"
      },
      "source": [
        "# **Using Traditional Model to fine baseline**"
      ]
    },
    {
      "cell_type": "markdown",
      "metadata": {
        "id": "zNzHar88yJMz",
        "colab_type": "text"
      },
      "source": [
        "***Clean Data***"
      ]
    },
    {
      "cell_type": "code",
      "metadata": {
        "id": "69KyOF7Lb0KN",
        "colab_type": "code",
        "colab": {}
      },
      "source": [
        "train_data = train_df['text']\n",
        "test_data = test_df['text']\n",
        "\n",
        "train_label = train_df['label']\n",
        "test_label = test_df['label']"
      ],
      "execution_count": 0,
      "outputs": []
    },
    {
      "cell_type": "code",
      "metadata": {
        "id": "fQZc53s6cFLJ",
        "colab_type": "code",
        "outputId": "73dc104a-5c38-465a-af48-abcb1b5f8f11",
        "colab": {
          "base_uri": "https://localhost:8080/",
          "height": 51
        }
      },
      "source": [
        "!pip install nltk"
      ],
      "execution_count": 18,
      "outputs": [
        {
          "output_type": "stream",
          "text": [
            "Requirement already satisfied: nltk in /usr/local/lib/python3.6/dist-packages (3.2.5)\n",
            "Requirement already satisfied: six in /usr/local/lib/python3.6/dist-packages (from nltk) (1.12.0)\n"
          ],
          "name": "stdout"
        }
      ]
    },
    {
      "cell_type": "code",
      "metadata": {
        "id": "bMb7zv1dZ3RU",
        "colab_type": "code",
        "colab": {}
      },
      "source": [
        "# import nltk\n",
        "# nltk.download('punkt')\n",
        "# import nltk.data\n",
        "# tokenizer = nltk.data.load('tokenizers/punkt/PY3/english.pickle')\n",
        "# from nltk.tokenize import word_tokenize\n",
        "# nltk.download('stopwords')\n",
        "# from nltk.corpus import stopwords\n",
        "# stopwords.words('english')"
      ],
      "execution_count": 0,
      "outputs": []
    },
    {
      "cell_type": "code",
      "metadata": {
        "id": "oWcJG2l7lKO0",
        "colab_type": "code",
        "outputId": "870d4fbf-f070-44a1-f9c7-054d64b354e5",
        "colab": {
          "base_uri": "https://localhost:8080/",
          "height": 136
        }
      },
      "source": [
        "import re\n",
        "import nltk as nlp\n",
        "import nltk\n",
        "nltk.download('wordnet')\n",
        "\n",
        "import nltk\n",
        "nltk.download('punkt')\n",
        "nltk.download('stopwords')"
      ],
      "execution_count": 20,
      "outputs": [
        {
          "output_type": "stream",
          "text": [
            "[nltk_data] Downloading package wordnet to /root/nltk_data...\n",
            "[nltk_data]   Unzipping corpora/wordnet.zip.\n",
            "[nltk_data] Downloading package punkt to /root/nltk_data...\n",
            "[nltk_data]   Unzipping tokenizers/punkt.zip.\n",
            "[nltk_data] Downloading package stopwords to /root/nltk_data...\n",
            "[nltk_data]   Unzipping corpora/stopwords.zip.\n"
          ],
          "name": "stdout"
        },
        {
          "output_type": "execute_result",
          "data": {
            "text/plain": [
              "True"
            ]
          },
          "metadata": {
            "tags": []
          },
          "execution_count": 20
        }
      ]
    },
    {
      "cell_type": "code",
      "metadata": {
        "id": "_7JRHA4LlKTE",
        "colab_type": "code",
        "colab": {}
      },
      "source": [
        "from nltk.corpus import stopwords\n",
        "lemma = nlp.WordNetLemmatizer()  "
      ],
      "execution_count": 0,
      "outputs": []
    },
    {
      "cell_type": "code",
      "metadata": {
        "id": "_CJqfzcIlBds",
        "colab_type": "code",
        "colab": {}
      },
      "source": [
        "train_words_list = []         \n",
        "for each in train_data:\n",
        "    each = re.sub(\"[^a-zA-Z]\",\" \", str(each))      # regex to clean unnecesarry chars\n",
        "    each = each.lower()                            # lowercase all\n",
        "    each = nlp.word_tokenize(each)                 # split all by tokenizing\n",
        "    each = [word for word in each if not word in set(stopwords.words(\"english\"))]  # delete stop words from your array\n",
        "    each = [lemma.lemmatize(word) for word in each]                                # lemmatize \"memories\" -> \"memory\"\n",
        "    each = \" \".join(each)                                                          # make them one string again\n",
        "    train_words_list.append(each)   "
      ],
      "execution_count": 0,
      "outputs": []
    },
    {
      "cell_type": "code",
      "metadata": {
        "id": "iyGg2DVLlBhN",
        "colab_type": "code",
        "outputId": "3ed69e0d-151b-4089-9919-6f33ada4af74",
        "colab": {
          "base_uri": "https://localhost:8080/",
          "height": 71
        }
      },
      "source": [
        "print(\"Original version: \", train_data.iloc[35])\n",
        "print(\"New version:      \", train_words_list[35])    # no unnecesary words or symbols"
      ],
      "execution_count": 23,
      "outputs": [
        {
          "output_type": "stream",
          "text": [
            "Original version:  Shale gas fracking will undermine the UK's ability to achieve its 2050 climate change target unless the industry is strictly regulated.\n",
            "New version:       shale gas fracking undermine uk ability achieve climate change target unless industry strictly regulated\n"
          ],
          "name": "stdout"
        }
      ]
    },
    {
      "cell_type": "code",
      "metadata": {
        "id": "hzN-qY5ctkYT",
        "colab_type": "code",
        "colab": {}
      },
      "source": [
        "test_words_list = []         \n",
        "for each in test_data:\n",
        "    each = re.sub(\"[^a-zA-Z]\",\" \", str(each))                                        \n",
        "    each = each.lower()                                                             \n",
        "    each = nlp.word_tokenize(each)                                                 \n",
        "    each = [word for word in each if not word in set(stopwords.words(\"english\"))]  \n",
        "    each = [lemma.lemmatize(word) for word in each]                               \n",
        "    each = \" \".join(each)                                                        \n",
        "    test_words_list.append(each) "
      ],
      "execution_count": 0,
      "outputs": []
    },
    {
      "cell_type": "code",
      "metadata": {
        "id": "d3ionKh5tkiG",
        "colab_type": "code",
        "outputId": "38de0caf-3638-4036-cef6-b3affe62c68e",
        "colab": {
          "base_uri": "https://localhost:8080/",
          "height": 71
        }
      },
      "source": [
        "print(\"Original version: \", test_data.iloc[101])\n",
        "print(\"New version:      \", test_words_list[101])"
      ],
      "execution_count": 25,
      "outputs": [
        {
          "output_type": "stream",
          "text": [
            "Original version:  New census numbers show that in the U.S., 48 percent of the population below age 18 identify as persons of color. Racial minorities now comprise a majority of youth in 13 states.\n",
            "New version:       new census number show u percent population age identify person color racial minority comprise majority youth state\n"
          ],
          "name": "stdout"
        }
      ]
    },
    {
      "cell_type": "markdown",
      "metadata": {
        "id": "eECRl42myUT7",
        "colab_type": "text"
      },
      "source": [
        "***Feature Extraction by Bag of Word***"
      ]
    },
    {
      "cell_type": "code",
      "metadata": {
        "id": "pKEbli6ArQYI",
        "colab_type": "code",
        "colab": {}
      },
      "source": [
        "from sklearn.feature_extraction.text import CountVectorizer\n",
        "\n",
        "sparce_matrix = CountVectorizer(stop_words=\"english\")"
      ],
      "execution_count": 0,
      "outputs": []
    },
    {
      "cell_type": "code",
      "metadata": {
        "id": "7mxgvoyjlBnz",
        "colab_type": "code",
        "outputId": "0891ee5c-18ce-4ec3-cf3b-d442490842a9",
        "colab": {
          "base_uri": "https://localhost:8080/",
          "height": 119
        }
      },
      "source": [
        "sparce_matrix.fit(train_words_list)"
      ],
      "execution_count": 27,
      "outputs": [
        {
          "output_type": "execute_result",
          "data": {
            "text/plain": [
              "CountVectorizer(analyzer='word', binary=False, decode_error='strict',\n",
              "                dtype=<class 'numpy.int64'>, encoding='utf-8', input='content',\n",
              "                lowercase=True, max_df=1.0, max_features=None, min_df=1,\n",
              "                ngram_range=(1, 1), preprocessor=None, stop_words='english',\n",
              "                strip_accents=None, token_pattern='(?u)\\\\b\\\\w\\\\w+\\\\b',\n",
              "                tokenizer=None, vocabulary=None)"
            ]
          },
          "metadata": {
            "tags": []
          },
          "execution_count": 27
        }
      ]
    },
    {
      "cell_type": "code",
      "metadata": {
        "id": "q_u1eTkflBrB",
        "colab_type": "code",
        "outputId": "0608c589-905f-4622-addc-6c626774c3e3",
        "colab": {
          "base_uri": "https://localhost:8080/",
          "height": 54
        }
      },
      "source": [
        "clean_words = sparce_matrix.get_feature_names()\n",
        "print(\"first 50 words :\", clean_words[:50])"
      ],
      "execution_count": 28,
      "outputs": [
        {
          "output_type": "stream",
          "text": [
            "first 50 words : ['abdu', 'abet', 'abide', 'abiding', 'ability', 'able', 'abroad', 'absence', 'absurd', 'academia', 'academic', 'accelerate', 'accelerated', 'accelerating', 'accept', 'acceptable', 'acceptance', 'access', 'accompanied', 'accomplished', 'according', 'account', 'accountability', 'accountable', 'accountancy', 'accurately', 'achieve', 'achieving', 'acquired', 'acquiring', 'acquisition', 'act', 'action', 'activist', 'activity', 'actor', 'actually', 'ad', 'ada', 'adapt', 'add', 'adding', 'additional', 'address', 'addressed', 'adequate', 'adequately', 'adidas', 'adjusting', 'adjustment']\n"
          ],
          "name": "stdout"
        }
      ]
    },
    {
      "cell_type": "code",
      "metadata": {
        "id": "KCJAZxOaZ3em",
        "colab_type": "code",
        "colab": {}
      },
      "source": [
        "train_feature = sparce_matrix.transform(train_words_list)\n",
        "test_feature = sparce_matrix.transform(test_words_list)"
      ],
      "execution_count": 0,
      "outputs": []
    },
    {
      "cell_type": "code",
      "metadata": {
        "id": "_j8CG4__dnWS",
        "colab_type": "code",
        "outputId": "01f28843-a702-4c6e-dfd1-77b21e23a97c",
        "colab": {
          "base_uri": "https://localhost:8080/",
          "height": 51
        }
      },
      "source": [
        "train_feature"
      ],
      "execution_count": 30,
      "outputs": [
        {
          "output_type": "execute_result",
          "data": {
            "text/plain": [
              "<576x2586 sparse matrix of type '<class 'numpy.int64'>'\n",
              "\twith 6752 stored elements in Compressed Sparse Row format>"
            ]
          },
          "metadata": {
            "tags": []
          },
          "execution_count": 30
        }
      ]
    },
    {
      "cell_type": "code",
      "metadata": {
        "id": "-1VNw87jdx-w",
        "colab_type": "code",
        "outputId": "9d424841-b3d1-411a-c02b-c76f3e194708",
        "colab": {
          "base_uri": "https://localhost:8080/",
          "height": 136
        }
      },
      "source": [
        "train_feature.toarray()"
      ],
      "execution_count": 31,
      "outputs": [
        {
          "output_type": "execute_result",
          "data": {
            "text/plain": [
              "array([[0, 0, 0, ..., 0, 0, 0],\n",
              "       [0, 0, 0, ..., 0, 0, 0],\n",
              "       [0, 0, 0, ..., 0, 0, 0],\n",
              "       ...,\n",
              "       [0, 0, 0, ..., 0, 0, 0],\n",
              "       [0, 0, 0, ..., 0, 0, 0],\n",
              "       [0, 0, 0, ..., 0, 0, 0]])"
            ]
          },
          "metadata": {
            "tags": []
          },
          "execution_count": 31
        }
      ]
    },
    {
      "cell_type": "code",
      "metadata": {
        "id": "dMqyTM7rdnZW",
        "colab_type": "code",
        "outputId": "c4492c3a-e6d0-4f4c-c577-d1689a3f9c0a",
        "colab": {
          "base_uri": "https://localhost:8080/",
          "height": 51
        }
      },
      "source": [
        "test_feature"
      ],
      "execution_count": 32,
      "outputs": [
        {
          "output_type": "execute_result",
          "data": {
            "text/plain": [
              "<193x2586 sparse matrix of type '<class 'numpy.int64'>'\n",
              "\twith 1721 stored elements in Compressed Sparse Row format>"
            ]
          },
          "metadata": {
            "tags": []
          },
          "execution_count": 32
        }
      ]
    },
    {
      "cell_type": "code",
      "metadata": {
        "id": "nLIgpKKNdnco",
        "colab_type": "code",
        "outputId": "49c197c1-d6a0-4d54-9b07-1b753192308d",
        "colab": {
          "base_uri": "https://localhost:8080/",
          "height": 136
        }
      },
      "source": [
        "test_feature.toarray()"
      ],
      "execution_count": 33,
      "outputs": [
        {
          "output_type": "execute_result",
          "data": {
            "text/plain": [
              "array([[0, 0, 0, ..., 0, 0, 0],\n",
              "       [0, 0, 0, ..., 0, 0, 0],\n",
              "       [0, 0, 0, ..., 0, 0, 0],\n",
              "       ...,\n",
              "       [0, 0, 0, ..., 0, 0, 0],\n",
              "       [0, 0, 0, ..., 0, 0, 0],\n",
              "       [0, 0, 0, ..., 0, 0, 0]])"
            ]
          },
          "metadata": {
            "tags": []
          },
          "execution_count": 33
        }
      ]
    },
    {
      "cell_type": "markdown",
      "metadata": {
        "id": "m-CaGoHoyhsr",
        "colab_type": "text"
      },
      "source": [
        "***Create Model and Evaluation***"
      ]
    },
    {
      "cell_type": "code",
      "metadata": {
        "id": "gSx4QVhudnf9",
        "colab_type": "code",
        "colab": {}
      },
      "source": [
        "from sklearn.svm import LinearSVC\n",
        "from sklearn.metrics import classification_report"
      ],
      "execution_count": 0,
      "outputs": []
    },
    {
      "cell_type": "code",
      "metadata": {
        "id": "8UjdHraTjeSM",
        "colab_type": "code",
        "colab": {}
      },
      "source": [
        "model_SVC = LinearSVC(random_state=2020)"
      ],
      "execution_count": 0,
      "outputs": []
    },
    {
      "cell_type": "code",
      "metadata": {
        "id": "8obJ3f2PjeVk",
        "colab_type": "code",
        "outputId": "e319cec8-ab75-42c4-d4cc-0a0f80c1f98f",
        "colab": {
          "base_uri": "https://localhost:8080/",
          "height": 85
        }
      },
      "source": [
        "model_SVC.fit(train_feature, train_label)"
      ],
      "execution_count": 36,
      "outputs": [
        {
          "output_type": "execute_result",
          "data": {
            "text/plain": [
              "LinearSVC(C=1.0, class_weight=None, dual=True, fit_intercept=True,\n",
              "          intercept_scaling=1, loss='squared_hinge', max_iter=1000,\n",
              "          multi_class='ovr', penalty='l2', random_state=2020, tol=0.0001,\n",
              "          verbose=0)"
            ]
          },
          "metadata": {
            "tags": []
          },
          "execution_count": 36
        }
      ]
    },
    {
      "cell_type": "code",
      "metadata": {
        "id": "W2hnw9FijeYg",
        "colab_type": "code",
        "colab": {}
      },
      "source": [
        "predict_SVC = model_SVC.predict(test_feature)"
      ],
      "execution_count": 0,
      "outputs": []
    },
    {
      "cell_type": "code",
      "metadata": {
        "id": "2rrseokhjeby",
        "colab_type": "code",
        "outputId": "32df8793-02d6-4c12-c863-11b346e29ce0",
        "colab": {
          "base_uri": "https://localhost:8080/",
          "height": 221
        }
      },
      "source": [
        "acc_SVC = classification_report(test_label, predict_SVC, digits=4)\n",
        "print(acc_SVC)"
      ],
      "execution_count": 38,
      "outputs": [
        {
          "output_type": "stream",
          "text": [
            "              precision    recall  f1-score   support\n",
            "\n",
            "           0     0.7857    0.8800    0.8302        50\n",
            "           1     0.8333    0.5000    0.6250        10\n",
            "           2     0.8611    0.9208    0.8900       101\n",
            "           3     0.7143    0.5000    0.5882        20\n",
            "           4     0.5556    0.4167    0.4762        12\n",
            "\n",
            "    accuracy                         0.8135       193\n",
            "   macro avg     0.7500    0.6435    0.6819       193\n",
            "weighted avg     0.8059    0.8135    0.8037       193\n",
            "\n"
          ],
          "name": "stdout"
        }
      ]
    },
    {
      "cell_type": "markdown",
      "metadata": {
        "id": "t4dFLgg-BMGy",
        "colab_type": "text"
      },
      "source": [
        "# **Using Deep Learning**\n"
      ]
    },
    {
      "cell_type": "markdown",
      "metadata": {
        "id": "6ViJCts14zbo",
        "colab_type": "text"
      },
      "source": [
        "Follow as https://towardsdatascience.com/multi-class-text-classification-with-lstm-using-tensorflow-2-0-d88627c10a35\n",
        "\n",
        "And https://github.com/susanli2016/PyCon-Canada-2019-NLP-Tutorial"
      ]
    },
    {
      "cell_type": "code",
      "metadata": {
        "id": "haQ5iQAMKvGF",
        "colab_type": "code",
        "outputId": "d36c9d05-01fc-47b8-e738-21bb1e6a6b3b",
        "colab": {
          "base_uri": "https://localhost:8080/",
          "height": 85
        }
      },
      "source": [
        "# Load data from UTCC Example source\n",
        "!gdown --id 1-AE9qY9mnFTjDAWlIcD2nfJDMdP5p7CK"
      ],
      "execution_count": 39,
      "outputs": [
        {
          "output_type": "stream",
          "text": [
            "Downloading...\n",
            "From: https://drive.google.com/uc?id=1-AE9qY9mnFTjDAWlIcD2nfJDMdP5p7CK\n",
            "To: /content/steep_01_clean.csv\n",
            "\r  0% 0.00/108k [00:00<?, ?B/s]\r100% 108k/108k [00:00<00:00, 40.7MB/s]\n"
          ],
          "name": "stdout"
        }
      ]
    },
    {
      "cell_type": "code",
      "metadata": {
        "id": "0oviR0djK5nx",
        "colab_type": "code",
        "outputId": "c744bf2d-0f31-48b2-ecf6-851b71c38ef4",
        "colab": {
          "base_uri": "https://localhost:8080/",
          "height": 34
        }
      },
      "source": [
        "ls"
      ],
      "execution_count": 40,
      "outputs": [
        {
          "output_type": "stream",
          "text": [
            "all_data.csv  \u001b[0m\u001b[01;34msample_data\u001b[0m/  steep_01_clean.csv\n"
          ],
          "name": "stdout"
        }
      ]
    },
    {
      "cell_type": "code",
      "metadata": {
        "id": "zorCcZA1QPZ7",
        "colab_type": "code",
        "outputId": "80195420-9838-4b8f-9ff0-e8fc7c08706b",
        "colab": {
          "base_uri": "https://localhost:8080/",
          "height": 1000
        }
      },
      "source": [
        "!pip install tensorflow==2.0.0"
      ],
      "execution_count": 41,
      "outputs": [
        {
          "output_type": "stream",
          "text": [
            "Collecting tensorflow==2.0.0\n",
            "\u001b[?25l  Downloading https://files.pythonhosted.org/packages/46/0f/7bd55361168bb32796b360ad15a25de6966c9c1beb58a8e30c01c8279862/tensorflow-2.0.0-cp36-cp36m-manylinux2010_x86_64.whl (86.3MB)\n",
            "\u001b[K     |████████████████████████████████| 86.3MB 66kB/s \n",
            "\u001b[?25hRequirement already satisfied: keras-applications>=1.0.8 in /usr/local/lib/python3.6/dist-packages (from tensorflow==2.0.0) (1.0.8)\n",
            "Requirement already satisfied: absl-py>=0.7.0 in /usr/local/lib/python3.6/dist-packages (from tensorflow==2.0.0) (0.9.0)\n",
            "Requirement already satisfied: gast==0.2.2 in /usr/local/lib/python3.6/dist-packages (from tensorflow==2.0.0) (0.2.2)\n",
            "Requirement already satisfied: google-pasta>=0.1.6 in /usr/local/lib/python3.6/dist-packages (from tensorflow==2.0.0) (0.1.8)\n",
            "Requirement already satisfied: six>=1.10.0 in /usr/local/lib/python3.6/dist-packages (from tensorflow==2.0.0) (1.12.0)\n",
            "Requirement already satisfied: wrapt>=1.11.1 in /usr/local/lib/python3.6/dist-packages (from tensorflow==2.0.0) (1.11.2)\n",
            "Requirement already satisfied: wheel>=0.26 in /usr/local/lib/python3.6/dist-packages (from tensorflow==2.0.0) (0.33.6)\n",
            "Requirement already satisfied: keras-preprocessing>=1.0.5 in /usr/local/lib/python3.6/dist-packages (from tensorflow==2.0.0) (1.1.0)\n",
            "Requirement already satisfied: astor>=0.6.0 in /usr/local/lib/python3.6/dist-packages (from tensorflow==2.0.0) (0.8.1)\n",
            "Requirement already satisfied: termcolor>=1.1.0 in /usr/local/lib/python3.6/dist-packages (from tensorflow==2.0.0) (1.1.0)\n",
            "Collecting tensorflow-estimator<2.1.0,>=2.0.0\n",
            "\u001b[?25l  Downloading https://files.pythonhosted.org/packages/fc/08/8b927337b7019c374719145d1dceba21a8bb909b93b1ad6f8fb7d22c1ca1/tensorflow_estimator-2.0.1-py2.py3-none-any.whl (449kB)\n",
            "\u001b[K     |████████████████████████████████| 450kB 55.8MB/s \n",
            "\u001b[?25hRequirement already satisfied: opt-einsum>=2.3.2 in /usr/local/lib/python3.6/dist-packages (from tensorflow==2.0.0) (3.1.0)\n",
            "Requirement already satisfied: protobuf>=3.6.1 in /usr/local/lib/python3.6/dist-packages (from tensorflow==2.0.0) (3.10.0)\n",
            "Requirement already satisfied: grpcio>=1.8.6 in /usr/local/lib/python3.6/dist-packages (from tensorflow==2.0.0) (1.15.0)\n",
            "Requirement already satisfied: numpy<2.0,>=1.16.0 in /usr/local/lib/python3.6/dist-packages (from tensorflow==2.0.0) (1.17.5)\n",
            "Collecting tensorboard<2.1.0,>=2.0.0\n",
            "\u001b[?25l  Downloading https://files.pythonhosted.org/packages/76/54/99b9d5d52d5cb732f099baaaf7740403e83fe6b0cedde940fabd2b13d75a/tensorboard-2.0.2-py3-none-any.whl (3.8MB)\n",
            "\u001b[K     |████████████████████████████████| 3.8MB 39.6MB/s \n",
            "\u001b[?25hRequirement already satisfied: h5py in /usr/local/lib/python3.6/dist-packages (from keras-applications>=1.0.8->tensorflow==2.0.0) (2.8.0)\n",
            "Requirement already satisfied: setuptools in /usr/local/lib/python3.6/dist-packages (from protobuf>=3.6.1->tensorflow==2.0.0) (42.0.2)\n",
            "Requirement already satisfied: werkzeug>=0.11.15 in /usr/local/lib/python3.6/dist-packages (from tensorboard<2.1.0,>=2.0.0->tensorflow==2.0.0) (0.16.0)\n",
            "Requirement already satisfied: requests<3,>=2.21.0 in /usr/local/lib/python3.6/dist-packages (from tensorboard<2.1.0,>=2.0.0->tensorflow==2.0.0) (2.21.0)\n",
            "Collecting google-auth<2,>=1.6.3\n",
            "\u001b[?25l  Downloading https://files.pythonhosted.org/packages/36/f8/84b5771faec3eba9fe0c91c8c5896364a8ba08852c0dea5ad2025026dd95/google_auth-1.10.0-py2.py3-none-any.whl (76kB)\n",
            "\u001b[K     |████████████████████████████████| 81kB 10.2MB/s \n",
            "\u001b[?25hRequirement already satisfied: google-auth-oauthlib<0.5,>=0.4.1 in /usr/local/lib/python3.6/dist-packages (from tensorboard<2.1.0,>=2.0.0->tensorflow==2.0.0) (0.4.1)\n",
            "Requirement already satisfied: markdown>=2.6.8 in /usr/local/lib/python3.6/dist-packages (from tensorboard<2.1.0,>=2.0.0->tensorflow==2.0.0) (3.1.1)\n",
            "Requirement already satisfied: urllib3<1.25,>=1.21.1 in /usr/local/lib/python3.6/dist-packages (from requests<3,>=2.21.0->tensorboard<2.1.0,>=2.0.0->tensorflow==2.0.0) (1.24.3)\n",
            "Requirement already satisfied: idna<2.9,>=2.5 in /usr/local/lib/python3.6/dist-packages (from requests<3,>=2.21.0->tensorboard<2.1.0,>=2.0.0->tensorflow==2.0.0) (2.8)\n",
            "Requirement already satisfied: certifi>=2017.4.17 in /usr/local/lib/python3.6/dist-packages (from requests<3,>=2.21.0->tensorboard<2.1.0,>=2.0.0->tensorflow==2.0.0) (2019.11.28)\n",
            "Requirement already satisfied: chardet<3.1.0,>=3.0.2 in /usr/local/lib/python3.6/dist-packages (from requests<3,>=2.21.0->tensorboard<2.1.0,>=2.0.0->tensorflow==2.0.0) (3.0.4)\n",
            "Requirement already satisfied: rsa<4.1,>=3.1.4 in /usr/local/lib/python3.6/dist-packages (from google-auth<2,>=1.6.3->tensorboard<2.1.0,>=2.0.0->tensorflow==2.0.0) (4.0)\n",
            "Requirement already satisfied: cachetools<5.0,>=2.0.0 in /usr/local/lib/python3.6/dist-packages (from google-auth<2,>=1.6.3->tensorboard<2.1.0,>=2.0.0->tensorflow==2.0.0) (4.0.0)\n",
            "Requirement already satisfied: pyasn1-modules>=0.2.1 in /usr/local/lib/python3.6/dist-packages (from google-auth<2,>=1.6.3->tensorboard<2.1.0,>=2.0.0->tensorflow==2.0.0) (0.2.7)\n",
            "Requirement already satisfied: requests-oauthlib>=0.7.0 in /usr/local/lib/python3.6/dist-packages (from google-auth-oauthlib<0.5,>=0.4.1->tensorboard<2.1.0,>=2.0.0->tensorflow==2.0.0) (1.3.0)\n",
            "Requirement already satisfied: pyasn1>=0.1.3 in /usr/local/lib/python3.6/dist-packages (from rsa<4.1,>=3.1.4->google-auth<2,>=1.6.3->tensorboard<2.1.0,>=2.0.0->tensorflow==2.0.0) (0.4.8)\n",
            "Requirement already satisfied: oauthlib>=3.0.0 in /usr/local/lib/python3.6/dist-packages (from requests-oauthlib>=0.7.0->google-auth-oauthlib<0.5,>=0.4.1->tensorboard<2.1.0,>=2.0.0->tensorflow==2.0.0) (3.1.0)\n",
            "\u001b[31mERROR: tensorboard 2.0.2 has requirement grpcio>=1.24.3, but you'll have grpcio 1.15.0 which is incompatible.\u001b[0m\n",
            "\u001b[31mERROR: google-colab 1.0.0 has requirement google-auth~=1.4.0, but you'll have google-auth 1.10.0 which is incompatible.\u001b[0m\n",
            "Installing collected packages: tensorflow-estimator, google-auth, tensorboard, tensorflow\n",
            "  Found existing installation: tensorflow-estimator 1.15.1\n",
            "    Uninstalling tensorflow-estimator-1.15.1:\n",
            "      Successfully uninstalled tensorflow-estimator-1.15.1\n",
            "  Found existing installation: google-auth 1.4.2\n",
            "    Uninstalling google-auth-1.4.2:\n",
            "      Successfully uninstalled google-auth-1.4.2\n",
            "  Found existing installation: tensorboard 1.15.0\n",
            "    Uninstalling tensorboard-1.15.0:\n",
            "      Successfully uninstalled tensorboard-1.15.0\n",
            "  Found existing installation: tensorflow 1.15.0\n",
            "    Uninstalling tensorflow-1.15.0:\n",
            "      Successfully uninstalled tensorflow-1.15.0\n",
            "Successfully installed google-auth-1.10.0 tensorboard-2.0.2 tensorflow-2.0.0 tensorflow-estimator-2.0.1\n"
          ],
          "name": "stdout"
        },
        {
          "output_type": "display_data",
          "data": {
            "application/vnd.colab-display-data+json": {
              "pip_warning": {
                "packages": [
                  "google"
                ]
              }
            }
          },
          "metadata": {
            "tags": []
          }
        }
      ]
    },
    {
      "cell_type": "code",
      "metadata": {
        "id": "8Rhu3_XpFI7c",
        "colab_type": "code",
        "outputId": "fa0a45e1-47e1-45ee-d0ec-c50576c2f593",
        "colab": {
          "base_uri": "https://localhost:8080/",
          "height": 34
        }
      },
      "source": [
        "import tensorflow as tf\n",
        "print(tf.__version__)"
      ],
      "execution_count": 42,
      "outputs": [
        {
          "output_type": "stream",
          "text": [
            "2.0.0\n"
          ],
          "name": "stdout"
        }
      ]
    },
    {
      "cell_type": "code",
      "metadata": {
        "id": "gw9W97-CFI7k",
        "colab_type": "code",
        "outputId": "1651e336-ac3f-4a0f-fd08-9995db434750",
        "colab": {
          "base_uri": "https://localhost:8080/",
          "height": 51
        }
      },
      "source": [
        "import csv\n",
        "import tensorflow as tf\n",
        "import numpy as np\n",
        "from tensorflow.keras.preprocessing.text import Tokenizer\n",
        "from tensorflow.keras.preprocessing.sequence import pad_sequences\n",
        "import nltk\n",
        "nltk.download('stopwords')\n",
        "from nltk.corpus import stopwords\n",
        "STOPWORDS = set(stopwords.words('english'))"
      ],
      "execution_count": 43,
      "outputs": [
        {
          "output_type": "stream",
          "text": [
            "[nltk_data] Downloading package stopwords to /root/nltk_data...\n",
            "[nltk_data]   Package stopwords is already up-to-date!\n"
          ],
          "name": "stdout"
        }
      ]
    },
    {
      "cell_type": "code",
      "metadata": {
        "id": "svyYyL09FI7n",
        "colab_type": "code",
        "colab": {}
      },
      "source": [
        "vocab_size = 5000\n",
        "embedding_dim = 64\n",
        "max_length = 200\n",
        "trunc_type = 'post'\n",
        "padding_type = 'post'\n",
        "oov_tok = '<OOV>'\n",
        "training_portion = .75"
      ],
      "execution_count": 0,
      "outputs": []
    },
    {
      "cell_type": "code",
      "metadata": {
        "id": "LXC07wIWbKZo",
        "colab_type": "code",
        "outputId": "d2fb2987-2154-4c40-9fb2-62cc32f41636",
        "colab": {
          "base_uri": "https://localhost:8080/",
          "height": 51
        }
      },
      "source": [
        "import re\n",
        "import nltk as nlp\n",
        "import nltk\n",
        "nltk.download('wordnet')\n",
        "\n",
        "from nltk.corpus import stopwords\n",
        "lemma = nlp.WordNetLemmatizer()"
      ],
      "execution_count": 45,
      "outputs": [
        {
          "output_type": "stream",
          "text": [
            "[nltk_data] Downloading package wordnet to /root/nltk_data...\n",
            "[nltk_data]   Package wordnet is already up-to-date!\n"
          ],
          "name": "stdout"
        }
      ]
    },
    {
      "cell_type": "code",
      "metadata": {
        "id": "zFAD9HtJFI7p",
        "colab_type": "code",
        "outputId": "f60010a8-27d6-4cb7-edae-fd1564161ab0",
        "colab": {
          "base_uri": "https://localhost:8080/",
          "height": 51
        }
      },
      "source": [
        "articles = []\n",
        "labels = []\n",
        "\n",
        "with open(\"steep_01_clean.csv\", 'r') as csvfile:\n",
        "    reader = csv.reader(csvfile, delimiter='|')\n",
        "    next(reader)\n",
        "    for row in reader:\n",
        "        labels.append(row[1])\n",
        "        article = row[0]\n",
        "        for word in STOPWORDS:\n",
        "            token = ' ' + word + ' '\n",
        "            article = article.replace(token, ' ')\n",
        "            article = article.replace(' ', ' ')\n",
        "        articles.append(article)\n",
        "print(len(labels))\n",
        "print(len(articles))"
      ],
      "execution_count": 46,
      "outputs": [
        {
          "output_type": "stream",
          "text": [
            "768\n",
            "768\n"
          ],
          "name": "stdout"
        }
      ]
    },
    {
      "cell_type": "code",
      "metadata": {
        "id": "KTi4NP6eFI7u",
        "colab_type": "code",
        "outputId": "a4678db7-063b-42ff-8ebb-14e1beb1be41",
        "colab": {
          "base_uri": "https://localhost:8080/",
          "height": 102
        }
      },
      "source": [
        "train_size = int(len(articles) * training_portion)\n",
        "\n",
        "train_articles = articles[0: train_size]\n",
        "train_labels = labels[0: train_size]\n",
        "\n",
        "validation_articles = articles[train_size:]\n",
        "validation_labels = labels[train_size:]\n",
        "\n",
        "print(train_size)\n",
        "print(len(train_articles))\n",
        "print(len(train_labels))\n",
        "print(len(validation_articles))\n",
        "print(len(validation_labels))"
      ],
      "execution_count": 47,
      "outputs": [
        {
          "output_type": "stream",
          "text": [
            "576\n",
            "576\n",
            "576\n",
            "192\n",
            "192\n"
          ],
          "name": "stdout"
        }
      ]
    },
    {
      "cell_type": "code",
      "metadata": {
        "id": "6FkyeP05FI7y",
        "colab_type": "code",
        "outputId": "21c1d443-9369-4d22-f924-21e2b6f0b06e",
        "colab": {
          "base_uri": "https://localhost:8080/",
          "height": 119
        }
      },
      "source": [
        "tokenizer = Tokenizer(num_words = vocab_size, oov_token=oov_tok)\n",
        "tokenizer.fit_on_texts(train_articles)\n",
        "word_index = tokenizer.word_index\n",
        "\n",
        "train_sequences = tokenizer.texts_to_sequences(train_articles)\n",
        "train_padded = pad_sequences(train_sequences, maxlen=max_length, padding=padding_type, truncating=trunc_type)\n",
        "\n",
        "print(len(train_sequences[0]))\n",
        "print(len(train_padded[0]))\n",
        "\n",
        "print(len(train_sequences[1]))\n",
        "print(len(train_padded[1]))\n",
        "\n",
        "print(len(train_sequences[10]))\n",
        "print(len(train_padded[10]))"
      ],
      "execution_count": 48,
      "outputs": [
        {
          "output_type": "stream",
          "text": [
            "7\n",
            "200\n",
            "21\n",
            "200\n",
            "14\n",
            "200\n"
          ],
          "name": "stdout"
        }
      ]
    },
    {
      "cell_type": "code",
      "metadata": {
        "id": "L35kQl9XBvkD",
        "colab_type": "code",
        "outputId": "c374a86a-4557-4ad4-f64b-3ffc500cb332",
        "colab": {
          "base_uri": "https://localhost:8080/",
          "height": 51
        }
      },
      "source": [
        "validation_sequences = tokenizer.texts_to_sequences(validation_articles)\n",
        "validation_padded = pad_sequences(validation_sequences, maxlen=max_length, padding=padding_type, truncating=trunc_type)\n",
        "\n",
        "print(len(validation_sequences))\n",
        "print(validation_padded.shape)"
      ],
      "execution_count": 49,
      "outputs": [
        {
          "output_type": "stream",
          "text": [
            "192\n",
            "(192, 200)\n"
          ],
          "name": "stdout"
        }
      ]
    },
    {
      "cell_type": "code",
      "metadata": {
        "id": "fZt3ek8JVSvv",
        "colab_type": "code",
        "colab": {}
      },
      "source": [
        "label_tokenizer = Tokenizer()\n",
        "label_tokenizer.fit_on_texts(labels)\n",
        "\n",
        "training_label_seq = np.array(label_tokenizer.texts_to_sequences(train_labels))\n",
        "validation_label_seq = np.array(label_tokenizer.texts_to_sequences(validation_labels))"
      ],
      "execution_count": 0,
      "outputs": []
    },
    {
      "cell_type": "code",
      "metadata": {
        "id": "-j0F23xkyszQ",
        "colab_type": "code",
        "outputId": "a98c279f-d937-4e60-de58-ee7335956e90",
        "colab": {
          "base_uri": "https://localhost:8080/",
          "height": 323
        }
      },
      "source": [
        "model = tf.keras.Sequential([\n",
        "    tf.keras.layers.Embedding(vocab_size, embedding_dim,\n",
        "                             input_length=max_length),\n",
        "  \n",
        "    tf.keras.layers.Conv1D(128, 5, activation='relu'),\n",
        "    tf.keras.layers.GlobalAveragePooling1D(),\n",
        "    tf.keras.layers.Dense(64, activation='relu'),\n",
        "    tf.keras.layers.Dense(6, activation='softmax')\n",
        "])\n",
        "model.summary()"
      ],
      "execution_count": 51,
      "outputs": [
        {
          "output_type": "stream",
          "text": [
            "Model: \"sequential\"\n",
            "_________________________________________________________________\n",
            "Layer (type)                 Output Shape              Param #   \n",
            "=================================================================\n",
            "embedding (Embedding)        (None, 200, 64)           320000    \n",
            "_________________________________________________________________\n",
            "conv1d (Conv1D)              (None, 196, 128)          41088     \n",
            "_________________________________________________________________\n",
            "global_average_pooling1d (Gl (None, 128)               0         \n",
            "_________________________________________________________________\n",
            "dense (Dense)                (None, 64)                8256      \n",
            "_________________________________________________________________\n",
            "dense_1 (Dense)              (None, 6)                 390       \n",
            "=================================================================\n",
            "Total params: 369,734\n",
            "Trainable params: 369,734\n",
            "Non-trainable params: 0\n",
            "_________________________________________________________________\n"
          ],
          "name": "stdout"
        }
      ]
    },
    {
      "cell_type": "code",
      "metadata": {
        "id": "XppeilGPytEH",
        "colab_type": "code",
        "colab": {}
      },
      "source": [
        "model.compile(loss='sparse_categorical_crossentropy', optimizer='adam', metrics=['accuracy'])"
      ],
      "execution_count": 0,
      "outputs": []
    },
    {
      "cell_type": "code",
      "metadata": {
        "id": "_dW0E1z2ytMg",
        "colab_type": "code",
        "outputId": "aabf42fc-a1b2-465a-b460-8bd1df92dd45",
        "colab": {
          "base_uri": "https://localhost:8080/",
          "height": 544
        }
      },
      "source": [
        "num_epochs = 15\n",
        "history = model.fit(train_padded, training_label_seq, epochs=num_epochs, \n",
        "                    validation_data=(validation_padded, validation_label_seq), verbose=2)"
      ],
      "execution_count": 53,
      "outputs": [
        {
          "output_type": "stream",
          "text": [
            "Train on 576 samples, validate on 192 samples\n",
            "Epoch 1/15\n",
            "576/576 - 2s - loss: 1.6853 - accuracy: 0.4392 - val_loss: 1.3783 - val_accuracy: 0.6250\n",
            "Epoch 2/15\n",
            "576/576 - 1s - loss: 1.3779 - accuracy: 0.4844 - val_loss: 1.2035 - val_accuracy: 0.6250\n",
            "Epoch 3/15\n",
            "576/576 - 1s - loss: 1.3209 - accuracy: 0.4844 - val_loss: 1.1463 - val_accuracy: 0.6250\n",
            "Epoch 4/15\n",
            "576/576 - 1s - loss: 1.2960 - accuracy: 0.4844 - val_loss: 1.2233 - val_accuracy: 0.6250\n",
            "Epoch 5/15\n",
            "576/576 - 1s - loss: 1.2929 - accuracy: 0.4844 - val_loss: 1.1709 - val_accuracy: 0.6250\n",
            "Epoch 6/15\n",
            "576/576 - 1s - loss: 1.2700 - accuracy: 0.4844 - val_loss: 1.1288 - val_accuracy: 0.6250\n",
            "Epoch 7/15\n",
            "576/576 - 1s - loss: 1.2434 - accuracy: 0.5174 - val_loss: 1.1484 - val_accuracy: 0.6302\n",
            "Epoch 8/15\n",
            "576/576 - 1s - loss: 1.1782 - accuracy: 0.5312 - val_loss: 1.1448 - val_accuracy: 0.6719\n",
            "Epoch 9/15\n",
            "576/576 - 1s - loss: 1.0779 - accuracy: 0.6597 - val_loss: 1.0637 - val_accuracy: 0.6719\n",
            "Epoch 10/15\n",
            "576/576 - 1s - loss: 0.9323 - accuracy: 0.7083 - val_loss: 1.0112 - val_accuracy: 0.6771\n",
            "Epoch 11/15\n",
            "576/576 - 1s - loss: 0.7790 - accuracy: 0.7257 - val_loss: 0.9913 - val_accuracy: 0.6823\n",
            "Epoch 12/15\n",
            "576/576 - 1s - loss: 0.6346 - accuracy: 0.7500 - val_loss: 0.9840 - val_accuracy: 0.6771\n",
            "Epoch 13/15\n",
            "576/576 - 1s - loss: 0.5231 - accuracy: 0.7882 - val_loss: 0.9832 - val_accuracy: 0.6823\n",
            "Epoch 14/15\n",
            "576/576 - 1s - loss: 0.4370 - accuracy: 0.8160 - val_loss: 1.0032 - val_accuracy: 0.6875\n",
            "Epoch 15/15\n",
            "576/576 - 1s - loss: 0.3737 - accuracy: 0.8385 - val_loss: 1.0102 - val_accuracy: 0.6615\n"
          ],
          "name": "stdout"
        }
      ]
    },
    {
      "cell_type": "code",
      "metadata": {
        "id": "XGwa25ycyteo",
        "colab_type": "code",
        "outputId": "4fded616-4aab-4d2c-81e2-826a636f1489",
        "colab": {
          "base_uri": "https://localhost:8080/",
          "height": 587
        }
      },
      "source": [
        "import matplotlib.pyplot as plt\n",
        "\n",
        "plt.plot(history.history['accuracy'],'r',linewidth=3.0)\n",
        "plt.plot(history.history['val_accuracy'],'b',linewidth=3.0)\n",
        "plt.legend(['Training Acc', 'Validation Acc'],fontsize=18)\n",
        "plt.xlabel('Epochs ',fontsize=16)\n",
        "plt.ylabel('Acc',fontsize=16)\n",
        "plt.title('Acc Curves :',fontsize=16)\n",
        "plt.show()\n",
        "\n",
        "\n",
        "plt.plot(history.history['loss'],'r',linewidth=3.0)\n",
        "plt.plot(history.history['val_loss'],'b',linewidth=3.0)\n",
        "plt.legend(['Training loss', 'Validation loss'],fontsize=18)\n",
        "plt.xlabel('Epochs ',fontsize=16)\n",
        "plt.ylabel('Loss',fontsize=16)\n",
        "plt.title('Loss Curve :',fontsize=16)\n",
        "plt.show()"
      ],
      "execution_count": 54,
      "outputs": [
        {
          "output_type": "display_data",
          "data": {
            "image/png": "[encoded data removed]",
            "text/plain": [
              "<Figure size 432x288 with 1 Axes>"
            ]
          },
          "metadata": {
            "tags": []
          }
        },
        {
          "output_type": "display_data",
          "data": {
            "image/png": "[encoded data removed]",
            "text/plain": [
              "<Figure size 432x288 with 1 Axes>"
            ]
          },
          "metadata": {
            "tags": []
          }
        }
      ]
    },
    {
      "cell_type": "code",
      "metadata": {
        "id": "08i2aB6sysv4",
        "colab_type": "code",
        "colab": {}
      },
      "source": [
        ""
      ],
      "execution_count": 0,
      "outputs": []
    },
    {
      "cell_type": "markdown",
      "metadata": {
        "id": "SUY4IdbPxCqe",
        "colab_type": "text"
      },
      "source": [
        "# **Tune Hyperparameters**"
      ]
    },
    {
      "cell_type": "markdown",
      "metadata": {
        "id": "Qj9BA1hX5B8B",
        "colab_type": "text"
      },
      "source": [
        "Follow as https://machinelearningmastery.com/how-to-reduce-overfitting-with-dropout-regularization-in-keras/"
      ]
    },
    {
      "cell_type": "code",
      "metadata": {
        "id": "kMFwneO5VS1g",
        "colab_type": "code",
        "outputId": "69498671-414b-472e-e81a-fca713b34fec",
        "colab": {
          "base_uri": "https://localhost:8080/",
          "height": 459
        }
      },
      "source": [
        "model_tune = tf.keras.Sequential([\n",
        "    tf.keras.layers.Embedding(vocab_size, embedding_dim,\n",
        "                             input_length=max_length),\n",
        "  \n",
        "    tf.keras.layers.Conv1D(128, 5, activation='relu'),\n",
        "    tf.keras.layers.GlobalAveragePooling1D(),\n",
        "    tf.keras.layers.Dense(64, activation='relu'),\n",
        "    tf.keras.layers.Dropout(0.5),\n",
        "    tf.keras.layers.Dense(32, activation='relu'),\n",
        "    tf.keras.layers.Dropout(0.5),\n",
        "    tf.keras.layers.Dense(16, activation='relu'),\n",
        "    tf.keras.layers.Dense(8, activation='softmax')\n",
        "])\n",
        "model_tune.summary()"
      ],
      "execution_count": 55,
      "outputs": [
        {
          "output_type": "stream",
          "text": [
            "Model: \"sequential_1\"\n",
            "_________________________________________________________________\n",
            "Layer (type)                 Output Shape              Param #   \n",
            "=================================================================\n",
            "embedding_1 (Embedding)      (None, 200, 64)           320000    \n",
            "_________________________________________________________________\n",
            "conv1d_1 (Conv1D)            (None, 196, 128)          41088     \n",
            "_________________________________________________________________\n",
            "global_average_pooling1d_1 ( (None, 128)               0         \n",
            "_________________________________________________________________\n",
            "dense_2 (Dense)              (None, 64)                8256      \n",
            "_________________________________________________________________\n",
            "dropout (Dropout)            (None, 64)                0         \n",
            "_________________________________________________________________\n",
            "dense_3 (Dense)              (None, 32)                2080      \n",
            "_________________________________________________________________\n",
            "dropout_1 (Dropout)          (None, 32)                0         \n",
            "_________________________________________________________________\n",
            "dense_4 (Dense)              (None, 16)                528       \n",
            "_________________________________________________________________\n",
            "dense_5 (Dense)              (None, 8)                 136       \n",
            "=================================================================\n",
            "Total params: 372,088\n",
            "Trainable params: 372,088\n",
            "Non-trainable params: 0\n",
            "_________________________________________________________________\n"
          ],
          "name": "stdout"
        }
      ]
    },
    {
      "cell_type": "code",
      "metadata": {
        "id": "OQ-Yz5x1VS4L",
        "colab_type": "code",
        "colab": {}
      },
      "source": [
        "model_tune.compile(loss='sparse_categorical_crossentropy', optimizer='adam', metrics=['accuracy'])"
      ],
      "execution_count": 0,
      "outputs": []
    },
    {
      "cell_type": "code",
      "metadata": {
        "id": "wnSbJ1XcVS7J",
        "colab_type": "code",
        "outputId": "2bce551e-f6eb-4c90-c814-c68dc4b7902e",
        "colab": {
          "base_uri": "https://localhost:8080/",
          "height": 544
        }
      },
      "source": [
        "num_epochs = 15\n",
        "history_tune = model_tune.fit(train_padded, training_label_seq, epochs=num_epochs, \n",
        "                              validation_data=(validation_padded, validation_label_seq), verbose=2)"
      ],
      "execution_count": 57,
      "outputs": [
        {
          "output_type": "stream",
          "text": [
            "Train on 576 samples, validate on 192 samples\n",
            "Epoch 1/15\n",
            "576/576 - 2s - loss: 1.9847 - accuracy: 0.3247 - val_loss: 1.7488 - val_accuracy: 0.6250\n",
            "Epoch 2/15\n",
            "576/576 - 1s - loss: 1.7825 - accuracy: 0.4410 - val_loss: 1.4270 - val_accuracy: 0.6250\n",
            "Epoch 3/15\n",
            "576/576 - 1s - loss: 1.5786 - accuracy: 0.4722 - val_loss: 1.3227 - val_accuracy: 0.6250\n",
            "Epoch 4/15\n",
            "576/576 - 1s - loss: 1.5255 - accuracy: 0.4479 - val_loss: 1.3353 - val_accuracy: 0.6250\n",
            "Epoch 5/15\n",
            "576/576 - 1s - loss: 1.5212 - accuracy: 0.4514 - val_loss: 1.2841 - val_accuracy: 0.6250\n",
            "Epoch 6/15\n",
            "576/576 - 1s - loss: 1.4644 - accuracy: 0.4531 - val_loss: 1.2331 - val_accuracy: 0.6250\n",
            "Epoch 7/15\n",
            "576/576 - 1s - loss: 1.3975 - accuracy: 0.4514 - val_loss: 1.2466 - val_accuracy: 0.6250\n",
            "Epoch 8/15\n",
            "576/576 - 1s - loss: 1.3141 - accuracy: 0.4688 - val_loss: 1.1992 - val_accuracy: 0.6250\n",
            "Epoch 9/15\n",
            "576/576 - 1s - loss: 1.2751 - accuracy: 0.4653 - val_loss: 1.2101 - val_accuracy: 0.6250\n",
            "Epoch 10/15\n",
            "576/576 - 1s - loss: 1.1694 - accuracy: 0.4844 - val_loss: 1.1572 - val_accuracy: 0.6250\n",
            "Epoch 11/15\n",
            "576/576 - 1s - loss: 1.0957 - accuracy: 0.4826 - val_loss: 1.1723 - val_accuracy: 0.6250\n",
            "Epoch 12/15\n",
            "576/576 - 1s - loss: 1.0480 - accuracy: 0.4861 - val_loss: 1.2382 - val_accuracy: 0.6250\n",
            "Epoch 13/15\n",
            "576/576 - 1s - loss: 1.0023 - accuracy: 0.4948 - val_loss: 1.2348 - val_accuracy: 0.6302\n",
            "Epoch 14/15\n",
            "576/576 - 1s - loss: 0.9380 - accuracy: 0.5069 - val_loss: 1.3000 - val_accuracy: 0.6250\n",
            "Epoch 15/15\n",
            "576/576 - 1s - loss: 0.9118 - accuracy: 0.5451 - val_loss: 1.2981 - val_accuracy: 0.6510\n"
          ],
          "name": "stdout"
        }
      ]
    },
    {
      "cell_type": "code",
      "metadata": {
        "id": "w0dWQMEeVS-S",
        "colab_type": "code",
        "outputId": "f22e1cfe-61eb-4669-d7e1-229657c1a172",
        "colab": {
          "base_uri": "https://localhost:8080/",
          "height": 587
        }
      },
      "source": [
        "plt.plot(history_tune.history['accuracy'],'r',linewidth=3.0)\n",
        "plt.plot(history_tune.history['val_accuracy'],'b',linewidth=3.0)\n",
        "plt.legend(['Training Acc', 'Validation Acc'],fontsize=18)\n",
        "plt.xlabel('Epochs ',fontsize=16)\n",
        "plt.ylabel('Acc',fontsize=16)\n",
        "plt.title('Acc Curves :',fontsize=16)\n",
        "plt.show()\n",
        "\n",
        "\n",
        "plt.plot(history_tune.history['loss'],'r',linewidth=3.0)\n",
        "plt.plot(history_tune.history['val_loss'],'b',linewidth=3.0)\n",
        "plt.legend(['Training loss', 'Validation loss'],fontsize=18)\n",
        "plt.xlabel('Epochs ',fontsize=16)\n",
        "plt.ylabel('Loss',fontsize=16)\n",
        "plt.title('Loss Curve :',fontsize=16)\n",
        "plt.show()\n",
        "\n"
      ],
      "execution_count": 58,
      "outputs": [
        {
          "output_type": "display_data",
          "data": {
            "image/png": "[encoded data removed]",
            "text/plain": [
              "<Figure size 432x288 with 1 Axes>"
            ]
          },
          "metadata": {
            "tags": []
          }
        },
        {
          "output_type": "display_data",
          "data": {
            "image/png": "[encoded data removed]",
            "text/plain": [
              "<Figure size 432x288 with 1 Axes>"
            ]
          },
          "metadata": {
            "tags": []
          }
        }
      ]
    },
    {
      "cell_type": "code",
      "metadata": {
        "id": "jFv7nN__xSIJ",
        "colab_type": "code",
        "colab": {}
      },
      "source": [
        ""
      ],
      "execution_count": 0,
      "outputs": []
    },
    {
      "cell_type": "markdown",
      "metadata": {
        "id": "Xw-3YbDpygAm",
        "colab_type": "text"
      },
      "source": [
        "# **Conclusion**"
      ]
    },
    {
      "cell_type": "markdown",
      "metadata": {
        "id": "pfxRWgX9zhEd",
        "colab_type": "text"
      },
      "source": [
        "จากที่ได้ทำการทดลอง จาก Data Set จำนวน 768 แถว มีการแบ่ง Data Set เป็นสัดส่วน 75 : 25 และได้ทำการสร้างโมเดลจาก Convolutional Neural Network (CNN)\n",
        "\n",
        "\n",
        "ทำการสอน Model จำนวน 15 Epoch พบว่า\n",
        "\n",
        "ค่า Accuracy ของ Training Data สามารถมีค่าเกิน 80% และค่า Loss ของ Training Data จะลดลง\n",
        "\n",
        "ค่า Accuracy ของ Validate Data มีค่าไม่เกิน 66% และค่า Loss ของ Validate Data จะเพิ่มสูงขึ้นเรื่อยๆ\n",
        "\n",
        "อาจสรุปได้ว่า เป็น Model ที่มีลักษณะ Over Fitting หรือ จำผลการทำนายเกินไป\n",
        "\n",
        "\n",
        "เมื่อทำการปรับ Hyper Parameter เพื่อไม่ให้ Model มีลักษณะ Overfitting \n",
        "ทำการสอน Model ใหม่ จำนวน 15 Epoch เท่ากัน ได้เป็น  พบว่า\n",
        "\n",
        "ค่า Accuracy ของ Training Data มีค่าไม่เกิน 55% และค่า Loss ของ Training Data จะลดลง\n",
        "\n",
        "ค่า Accuracy ของ Validate Data มีค่าไม่เกิน 66% และค่า Loss ของ Validate Data จะเพิ่มสูงขึ้นเรื่อยๆ\n",
        "\n",
        "สันนิษฐานได้ว่า จำนวน Data Set อาจน้อยเกินไปสำหรับการ สอน Model และปัญหาการไม่สมดุลกันของข้อมูลในแต่ละ label จึงทำให้ Model เกิดการ Overfitting และ ปรับ Hyper Parameter ก็ทำให้ค่า Accuracy เพิ่มขึ้นแต่อย่างได้ ซึ่งหากข้อมูลมีจำนวนไม่มากนั้น การใช้ Traditional Model อาจจะทำให้ได้ค่า Accuracy ที่ดีกว่า   \n"
      ]
    },
    {
      "cell_type": "code",
      "metadata": {
        "id": "_R-t1oSV6gEo",
        "colab_type": "code",
        "colab": {}
      },
      "source": [
        ""
      ],
      "execution_count": 0,
      "outputs": []
    }
  ]
}